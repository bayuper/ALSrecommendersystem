{
 "cells": [
  {
   "cell_type": "markdown",
   "metadata": {},
   "source": [
    "# ALS Recommender System\n",
    "\n",
    "This project purpose to undergraduate thesis for bachelor of Informatics Universitas AMIKOM Yogyakarta\n",
    "\n",
    "- Dataset : MovieLens 100k\n",
    "- Methods : Alternating Least Square"
   ]
  },
  {
   "cell_type": "markdown",
   "metadata": {},
   "source": [
    "### Define the libraries"
   ]
  },
  {
   "cell_type": "code",
   "execution_count": 62,
   "metadata": {},
   "outputs": [],
   "source": [
    "import numpy as np\n",
    "import os\n",
    "import matplotlib.pyplot as plt\n",
    "from pyspark.sql import SparkSession\n",
    "from pyspark.sql import SQLContext\n",
    "from pyspark.ml.evaluation import RegressionEvaluator\n",
    "from pyspark.ml.recommendation import ALS\n",
    "from pyspark.sql.functions import udf, col, when\n",
    "from IPython.display import Image\n",
    "from IPython.display import display\n",
    "from pyspark.ml.tuning import TrainValidationSplit\n",
    "from pyspark.ml.tuning import ParamGridBuilder\n",
    "from pyspark.mllib.evaluation import MulticlassMetrics\n",
    "from pyspark.ml.tuning import CrossValidator"
   ]
  },
  {
   "cell_type": "code",
   "execution_count": 2,
   "metadata": {},
   "outputs": [
    {
     "data": {
      "text/plain": [
       "'/Users/creative/Documents/THESIS/Dataset/ALS1'"
      ]
     },
     "execution_count": 2,
     "metadata": {},
     "output_type": "execute_result"
    }
   ],
   "source": [
    "# Define the files directory\n",
    "\n",
    "os.chdir('Dataset/ALS1')\n",
    "os.getcwd()"
   ]
  },
  {
   "cell_type": "markdown",
   "metadata": {},
   "source": [
    "### Define the dataset "
   ]
  },
  {
   "cell_type": "code",
   "execution_count": 3,
   "metadata": {},
   "outputs": [],
   "source": [
    "spark = SparkSession.builder.appName('Mrecommend_demo').getOrCreate()\n",
    "sc = spark.sparkContext\n",
    "sqlContext = SQLContext\n",
    "\n",
    "# Ratings and Movies data\n",
    "ratings_df = spark.read.csv('ratings.csv', inferSchema=True, header=True)\n",
    "movies_df = spark.read.csv('movies.csv', inferSchema=True, header=True)"
   ]
  },
  {
   "cell_type": "code",
   "execution_count": 4,
   "metadata": {},
   "outputs": [
    {
     "name": "stdout",
     "output_type": "stream",
     "text": [
      "+------+-------+------+---------+\n",
      "|userId|movieId|rating|timestamp|\n",
      "+------+-------+------+---------+\n",
      "|     1|      1|   4.0|964982703|\n",
      "|     1|      3|   4.0|964981247|\n",
      "|     1|      6|   4.0|964982224|\n",
      "|     1|     47|   5.0|964983815|\n",
      "|     1|     50|   5.0|964982931|\n",
      "+------+-------+------+---------+\n",
      "only showing top 5 rows\n",
      "\n"
     ]
    }
   ],
   "source": [
    "# Ratings Data\n",
    "\n",
    "ratings_df.show(5)"
   ]
  },
  {
   "cell_type": "markdown",
   "metadata": {},
   "source": [
    "### ALS Process"
   ]
  },
  {
   "cell_type": "code",
   "execution_count": 5,
   "metadata": {},
   "outputs": [
    {
     "name": "stdout",
     "output_type": "stream",
     "text": [
      "CPU times: user 22.6 ms, sys: 7.21 ms, total: 29.8 ms\n",
      "Wall time: 11.6 s\n"
     ]
    }
   ],
   "source": [
    "%%time\n",
    "# Define training and testinf set\n",
    "(training, test) = ratings_df.randomSplit([0.8, 0.2])\n",
    "\n",
    "# ALS Model\n",
    "als = ALS(userCol=\"userId\", itemCol=\"movieId\", ratingCol=\"rating\",coldStartStrategy=\"drop\", nonnegative = True)\n",
    "\n",
    "# Train Data\n",
    "model = als.fit(training)\n",
    "\n",
    "# Predict Data\n",
    "predictions = model.transform(test)"
   ]
  },
  {
   "cell_type": "markdown",
   "metadata": {},
   "source": [
    "### Error Measurement"
   ]
  },
  {
   "cell_type": "code",
   "execution_count": 7,
   "metadata": {},
   "outputs": [],
   "source": [
    "def measurement(error):\n",
    "    new_predictions = predictions.filter(col('prediction') != np.nan)\n",
    "    evaluator = RegressionEvaluator(metricName=str(error), labelCol=\"rating\", predictionCol=\"prediction\")\n",
    "    rmse = evaluator.evaluate(new_predictions)\n",
    "    print(error.upper(),\" = \"+ str(rmse))"
   ]
  },
  {
   "cell_type": "code",
   "execution_count": 8,
   "metadata": {},
   "outputs": [
    {
     "name": "stdout",
     "output_type": "stream",
     "text": [
      "MAE  = 0.6809120654486693\n",
      "RMSE  = 0.8838447267574263\n",
      "CPU times: user 17.4 ms, sys: 6.28 ms, total: 23.6 ms\n",
      "Wall time: 23.6 s\n"
     ]
    }
   ],
   "source": [
    "%%time\n",
    "measurement('mae')\n",
    "measurement('rmse')"
   ]
  },
  {
   "cell_type": "markdown",
   "metadata": {},
   "source": [
    "### Recommended Movies"
   ]
  },
  {
   "cell_type": "code",
   "execution_count": 10,
   "metadata": {},
   "outputs": [
    {
     "name": "stdout",
     "output_type": "stream",
     "text": [
      "+------+---------------------------------------------------------------------------------------------------+\n",
      "|userId|recommendations                                                                                    |\n",
      "+------+---------------------------------------------------------------------------------------------------+\n",
      "|471   |[[177593, 4.881076], [306, 4.7430716], [3379, 4.7194037], [94959, 4.7078366], [89904, 4.6835995]]  |\n",
      "|463   |[[7842, 5.0982447], [3379, 4.9183955], [60943, 4.840947], [171495, 4.8090496], [117531, 4.6842003]]|\n",
      "|496   |[[3379, 4.9233146], [96004, 4.8863063], [3030, 4.8130994], [5747, 4.719459], [6669, 4.6813555]]    |\n",
      "|148   |[[5034, 4.429165], [7121, 4.3770857], [93988, 4.3632903], [1357, 4.3478956], [47423, 4.338019]]    |\n",
      "|540   |[[3379, 5.404235], [5075, 5.3878703], [171495, 5.208924], [7842, 5.1628175], [26171, 5.110066]]    |\n",
      "|392   |[[86345, 5.2528], [3379, 5.1781983], [92535, 5.064887], [84847, 4.9740486], [96004, 4.964236]]     |\n",
      "|243   |[[33090, 6.361851], [130518, 6.2636456], [92643, 6.211829], [98279, 6.1758094], [66943, 6.1518135]]|\n",
      "|31    |[[2730, 5.5282507], [3404, 5.439866], [7096, 5.3551617], [3200, 5.341818], [5034, 5.336487]]       |\n",
      "|516   |[[87234, 4.7064953], [3379, 4.545571], [3153, 4.4394565], [1733, 4.4106636], [171917, 4.393299]]   |\n",
      "|580   |[[92535, 5.2351103], [84847, 5.1961856], [86347, 5.1788387], [26171, 5.074279], [32892, 5.0698686]]|\n",
      "+------+---------------------------------------------------------------------------------------------------+\n",
      "only showing top 10 rows\n",
      "\n",
      "CPU times: user 2.48 ms, sys: 2.44 ms, total: 4.92 ms\n",
      "Wall time: 4.24 s\n"
     ]
    }
   ],
   "source": [
    "%%time\n",
    "userRecs = model.recommendForAllUsers(5)\n",
    "userRecs.show(10,False)"
   ]
  },
  {
   "cell_type": "markdown",
   "metadata": {},
   "source": [
    "## Experiments"
   ]
  },
  {
   "cell_type": "code",
   "execution_count": 11,
   "metadata": {},
   "outputs": [],
   "source": [
    "def experiments(train,test):\n",
    "    print('Train data for ', train*100,'% Train Data')\n",
    "    (training, test) = ratings_df.randomSplit([train, test])\n",
    "    als = ALS(userCol=\"userId\", itemCol=\"movieId\", ratingCol=\"rating\",coldStartStrategy=\"drop\", nonnegative = True)\n",
    "    model = als.fit(training)\n",
    "    predictions = model.transform(test)\n",
    "    \n",
    "    err = ['mae','rmse']\n",
    "    for i in err:\n",
    "        new_predictions = predictions.filter(col('prediction') != np.nan)\n",
    "        evaluator = RegressionEvaluator(metricName=str(i), labelCol=\"rating\", predictionCol=\"prediction\")\n",
    "        score = evaluator.evaluate(new_predictions)\n",
    "        print(i.upper(),\" = \"+ str(score))"
   ]
  },
  {
   "cell_type": "markdown",
   "metadata": {},
   "source": [
    "### EX001\n",
    "\n",
    "- Train Data : 70%\n",
    "- Test Data : 30% \n",
    "- Dataset : MovieLens 100k"
   ]
  },
  {
   "cell_type": "code",
   "execution_count": 12,
   "metadata": {},
   "outputs": [
    {
     "name": "stdout",
     "output_type": "stream",
     "text": [
      "Train data for  70.0 % Train Data\n",
      "MAE  = 0.6889196582855841\n",
      "RMSE  = 0.8936742533549177\n",
      "CPU times: user 38.9 ms, sys: 10.5 ms, total: 49.5 ms\n",
      "Wall time: 27.2 s\n"
     ]
    }
   ],
   "source": [
    "%%time\n",
    "experiments(0.7,0.3)"
   ]
  },
  {
   "cell_type": "markdown",
   "metadata": {},
   "source": [
    "### EX002\n",
    "\n",
    "- Train Data : 80%\n",
    "- Test Data : 20%\n",
    "- Dataset : MovieLens 100k"
   ]
  },
  {
   "cell_type": "code",
   "execution_count": 13,
   "metadata": {},
   "outputs": [
    {
     "name": "stdout",
     "output_type": "stream",
     "text": [
      "Train data for  80.0 % Train Data\n",
      "MAE  = 0.6709044670295701\n",
      "RMSE  = 0.8662591670454897\n",
      "CPU times: user 38.8 ms, sys: 9.69 ms, total: 48.5 ms\n",
      "Wall time: 24.7 s\n"
     ]
    }
   ],
   "source": [
    "%%time\n",
    "experiments(0.8,0.2)"
   ]
  },
  {
   "cell_type": "markdown",
   "metadata": {},
   "source": [
    "### EX003\n",
    "- Train Data : 90%\n",
    "- Test Data : 10%\n",
    "- Dataset : MovieLens 100k"
   ]
  },
  {
   "cell_type": "code",
   "execution_count": 14,
   "metadata": {},
   "outputs": [
    {
     "name": "stdout",
     "output_type": "stream",
     "text": [
      "Train data for  90.0 % Train Data\n",
      "MAE  = 0.6690494628737167\n",
      "RMSE  = 0.8671406988644633\n",
      "CPU times: user 44.8 ms, sys: 12.3 ms, total: 57 ms\n",
      "Wall time: 24.1 s\n"
     ]
    }
   ],
   "source": [
    "%%time\n",
    "experiments(0.9,0.1)"
   ]
  },
  {
   "cell_type": "code",
   "execution_count": 72,
   "metadata": {},
   "outputs": [],
   "source": [
    "def als_predict(n,error):\n",
    "    (training, test) = ratings_df.randomSplit([0.8, 0.2])\n",
    "    als = ALS(rank=n,userCol=\"userId\", itemCol=\"movieId\", ratingCol=\"rating\",coldStartStrategy=\"drop\", nonnegative = True)\n",
    "    model = als.fit(training)\n",
    "    predictions = model.transform(test)\n",
    "    \n",
    "    new_predictions = predictions.filter(col('prediction') != np.nan)\n",
    "    evaluator = RegressionEvaluator(metricName=str(error), labelCol=\"rating\", predictionCol=\"prediction\")\n",
    "    score = evaluator.evaluate(new_predictions)\n",
    "    return score\n",
    "\n",
    "def als_predict_itter(n,error):\n",
    "    (training, test) = ratings_df.randomSplit([0.8, 0.2])\n",
    "    als = ALS(rank=n,userCol=\"userId\", itemCol=\"movieId\", ratingCol=\"rating\",coldStartStrategy=\"drop\", nonnegative = True)\n",
    "    model = als.fit(training)\n",
    "    predictions = model.transform(test)\n",
    "    \n",
    "    new_predictions = predictions.filter(col('prediction') != np.nan)\n",
    "    evaluator = RegressionEvaluator(metricName=str(error), labelCol=\"rating\", predictionCol=\"prediction\")\n",
    "    score = evaluator.evaluate(new_predictions)\n",
    "    return score"
   ]
  },
  {
   "cell_type": "markdown",
   "metadata": {},
   "source": [
    "### EX004\n",
    "\n",
    "Impact of Rank\n",
    "\n",
    "- Rank : 1 to 100\n",
    "- Error Measurement : MAE and RMSE"
   ]
  },
  {
   "cell_type": "code",
   "execution_count": 73,
   "metadata": {},
   "outputs": [
    {
     "data": {
      "text/plain": [
       "['0.6844']"
      ]
     },
     "execution_count": 73,
     "metadata": {},
     "output_type": "execute_result"
    }
   ],
   "source": [
    "# MAE\n",
    "mae_score = []\n",
    "\n",
    "for n in range(1,100):\n",
    "    score = als_predict(n,'mae')\n",
    "    mae_score.append('%.4f' % score)\n",
    "\n",
    "mae_score"
   ]
  },
  {
   "cell_type": "code",
   "execution_count": null,
   "metadata": {},
   "outputs": [],
   "source": [
    "# RMSE\n",
    "rmse_score = []\n",
    "\n",
    "for n in range(1,100):\n",
    "    score = als_predict(n,'rmse')\n",
    "    mae_score.append('%.4f' % score)\n",
    "\n",
    "rmse_score"
   ]
  },
  {
   "cell_type": "markdown",
   "metadata": {},
   "source": [
    "### EX005\n",
    "\n",
    "Impact of MaxItter\n",
    "\n",
    "- Rank : 1 to 100\n",
    "- Error Measurement : MAE and RMSE"
   ]
  },
  {
   "cell_type": "code",
   "execution_count": null,
   "metadata": {},
   "outputs": [],
   "source": [
    "# MAE\n",
    "mae_score = []\n",
    "\n",
    "for n in range(1,100):\n",
    "    score = als_predict_itter(n,'mae')\n",
    "    mae_score.append('%.4f' % score)\n",
    "\n",
    "mae_score"
   ]
  },
  {
   "cell_type": "code",
   "execution_count": null,
   "metadata": {},
   "outputs": [],
   "source": [
    "# RMSE\n",
    "rmse_score = []\n",
    "\n",
    "for n in range(1,100):\n",
    "    score = als_predict_itter(n,'rmse')\n",
    "    mae_score.append('%.4f' % score)\n",
    "\n",
    "rmse_score"
   ]
  },
  {
   "cell_type": "markdown",
   "metadata": {},
   "source": [
    "### Hyperparameters Tuning"
   ]
  },
  {
   "cell_type": "code",
   "execution_count": 59,
   "metadata": {},
   "outputs": [],
   "source": [
    "#Tune model using ParamGridBuilder\n",
    "\n",
    "param_grid = ParamGridBuilder().addGrid(als.rank, [12,13,14]).addGrid(als.maxIter, [18,19,20]).addGrid(als.regParam, [.17, 0.18, 0.19]).build()\n",
    "evaluator = RegressionEvaluator(metricName=\"rmse\", labelCol=\"rating\", predictionCol=\"prediction\")"
   ]
  },
  {
   "cell_type": "code",
   "execution_count": 60,
   "metadata": {},
   "outputs": [],
   "source": [
    "cv = CrossValidator(estimator = als,\n",
    "                    estimatorParamMaps = param_grid,\n",
    "                    evaluator = evaluator,\n",
    "                    numFolds = 5) "
   ]
  },
  {
   "cell_type": "code",
   "execution_count": 61,
   "metadata": {},
   "outputs": [],
   "source": [
    "model = cv.fit(training)"
   ]
  },
  {
   "cell_type": "code",
   "execution_count": 71,
   "metadata": {},
   "outputs": [
    {
     "name": "stdout",
     "output_type": "stream",
     "text": [
      "RMSE = 0.8765226258505581\n",
      "======Best Model=======\n",
      "\n",
      "Dataset : MovieLens 100k\n",
      "Rank :  14\n",
      "MaxIter:  20\n",
      "RegParam:  0.17\n"
     ]
    }
   ],
   "source": [
    "best_model = model.bestModel\n",
    "predictions = best_model.transform(test)\n",
    "rmse = evaluator.evaluate(predictions)\n",
    "print(\"RMSE = \" + str(rmse))\n",
    "print(\"=======Best Model========\")\n",
    "print('')\n",
    "print('Dataset : MovieLens 100k')\n",
    "print(\"Rank : \", best_model.rank)\n",
    "print(\"MaxIter: \", best_model._java_obj.parent().getMaxIter())\n",
    "print(\"RegParam: \", best_model._java_obj.parent().getRegParam())"
   ]
  },
  {
   "cell_type": "markdown",
   "metadata": {},
   "source": [
    "### Recommended Movies"
   ]
  },
  {
   "cell_type": "code",
   "execution_count": 77,
   "metadata": {},
   "outputs": [
    {
     "name": "stdout",
     "output_type": "stream",
     "text": [
      "MAE  = 0.6836160106470243\n",
      "RMSE  = 0.8765226258505581\n"
     ]
    }
   ],
   "source": [
    "als = ALS(maxIter=20, regParam = 0.17, rank=14,userCol=\"userId\", itemCol=\"movieId\", ratingCol=\"rating\",coldStartStrategy=\"drop\", nonnegative = True)\n",
    "model = als.fit(training)\n",
    "predictions = model.transform(test)\n",
    "\n",
    "err = ['mae','rmse']\n",
    "for i in err:\n",
    "    new_predictions = predictions.filter(col('prediction') != np.nan)\n",
    "    evaluator = RegressionEvaluator(metricName=str(i), labelCol=\"rating\", predictionCol=\"prediction\")\n",
    "    score = evaluator.evaluate(new_predictions)\n",
    "    print(i.upper(),\" = \"+ str(score))"
   ]
  },
  {
   "cell_type": "code",
   "execution_count": 75,
   "metadata": {},
   "outputs": [
    {
     "name": "stdout",
     "output_type": "stream",
     "text": [
      "+------+---------------------------------------------------------------------------------------------------+\n",
      "|userId|recommendations                                                                                    |\n",
      "+------+---------------------------------------------------------------------------------------------------+\n",
      "|471   |[[6818, 4.8711944], [96004, 4.7894807], [89904, 4.679346], [8477, 4.655531], [7767, 4.5522065]]    |\n",
      "|463   |[[96004, 5.078626], [60943, 4.8791623], [7481, 4.8791623], [59018, 4.8791623], [171495, 4.7820797]]|\n",
      "|496   |[[6818, 4.9922967], [96004, 4.7327614], [8477, 4.696682], [89759, 4.5038633], [6666, 4.4259048]]   |\n",
      "|148   |[[77846, 4.596333], [25906, 4.596333], [93008, 4.596333], [67618, 4.3877873], [96004, 4.3683186]]  |\n",
      "|540   |[[96004, 5.5427637], [6818, 5.2318788], [132333, 5.142784], [171495, 5.135109], [102217, 5.103898]]|\n",
      "|392   |[[96004, 4.5766044], [60943, 4.433956], [7481, 4.433956], [59018, 4.433956], [170705, 4.4278316]]  |\n",
      "|243   |[[67618, 6.0758457], [3567, 5.796935], [96004, 5.7790537], [7071, 5.719033], [117531, 5.719033]]   |\n",
      "|31    |[[96004, 5.20483], [6818, 5.1776757], [87234, 5.168283], [67618, 5.120191], [25906, 5.060086]]     |\n",
      "|516   |[[96004, 4.757253], [132333, 4.6211443], [4495, 4.489655], [6201, 4.489655], [5466, 4.328036]]     |\n",
      "|580   |[[96004, 4.7686925], [7481, 4.7560334], [60943, 4.7560334], [59018, 4.7560334], [6300, 4.6644197]] |\n",
      "+------+---------------------------------------------------------------------------------------------------+\n",
      "only showing top 10 rows\n",
      "\n",
      "CPU times: user 5.49 ms, sys: 6.96 ms, total: 12.4 ms\n",
      "Wall time: 5.62 s\n"
     ]
    }
   ],
   "source": [
    "%%time\n",
    "userRecs = model.recommendForAllUsers(5)\n",
    "userRecs.show(10,False)"
   ]
  }
 ],
 "metadata": {
  "kernelspec": {
   "display_name": "Python 3",
   "language": "python",
   "name": "python3"
  },
  "language_info": {
   "codemirror_mode": {
    "name": "ipython",
    "version": 3
   },
   "file_extension": ".py",
   "mimetype": "text/x-python",
   "name": "python",
   "nbconvert_exporter": "python",
   "pygments_lexer": "ipython3",
   "version": "3.7.6"
  }
 },
 "nbformat": 4,
 "nbformat_minor": 4
}
